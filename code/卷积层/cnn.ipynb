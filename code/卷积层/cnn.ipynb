{
 "cells": [
  {
   "cell_type": "code",
   "execution_count": 1,
   "id": "ed8731fe",
   "metadata": {},
   "outputs": [
    {
     "name": "stdout",
     "output_type": "stream",
     "text": [
      "2.6.0\n",
      "sys.version_info(major=3, minor=7, micro=9, releaselevel='final', serial=0)\n",
      "matplotlib 3.4.1\n",
      "numpy 1.20.2\n",
      "pandas 1.2.3\n",
      "sklearn 0.24.1\n",
      "tensorflow 2.6.0\n",
      "keras.api._v2.keras 2.6.0\n"
     ]
    }
   ],
   "source": [
    "%matplotlib inline\n",
    "import matplotlib as mpl\n",
    "import matplotlib.pyplot as plt\n",
    "import numpy as np\n",
    "import os\n",
    "import pandas as pd\n",
    "import sklearn\n",
    "import sys\n",
    "import tensorflow as tf\n",
    "import time\n",
    "\n",
    "from tensorflow import keras\n",
    "\n",
    "print(tf.__version__)\n",
    "print(sys.version_info)\n",
    "for module in mpl, np, pd, sklearn, tf, keras:\n",
    "    print(module.__name__, module.__version__)"
   ]
  },
  {
   "cell_type": "code",
   "execution_count": 4,
   "id": "1060de90",
   "metadata": {},
   "outputs": [
    {
     "name": "stdout",
     "output_type": "stream",
     "text": [
      "True\n",
      "True\n",
      "True\n",
      "['airplane', 'automobile', 'bird', 'cat', 'deer', 'dog', 'frog', 'horse', 'ship', 'truck']\n",
      "['airplane', 'automobile', 'bird', 'cat', 'deer', 'dog', 'frog', 'horse', 'ship', 'truck']\n",
      "['airplane', 'automobile', 'bird', 'cat', 'deer', 'dog', 'frog', 'horse', 'ship', 'truck']\n"
     ]
    }
   ],
   "source": [
    "train_dir = \"./cifar-10/train\"\n",
    "test_dir = \"./cifar-10/test\"\n",
    "valid_dir = './cifar-10/validation'\n",
    "print(os.path.exists(train_dir))\n",
    "print(os.path.exists(test_dir))\n",
    "print(os.path.exists(valid_dir))\n",
    "\n",
    "print(os.listdir(train_dir))\n",
    "print(os.listdir(test_dir))\n",
    "print(os.listdir(valid_dir))"
   ]
  },
  {
   "cell_type": "code",
   "execution_count": 5,
   "id": "29fb9d0d",
   "metadata": {},
   "outputs": [
    {
     "name": "stdout",
     "output_type": "stream",
     "text": [
      "Found 45000 images belonging to 10 classes.\n",
      "Found 5000 images belonging to 10 classes.\n",
      "45000 5000\n"
     ]
    }
   ],
   "source": [
    "height = 32\n",
    "width = 32\n",
    "channels = 3\n",
    "batch_size = 32\n",
    "num_classes = 10\n",
    "\n",
    "train_datagen = keras.preprocessing.image.ImageDataGenerator(\n",
    "    rescale = 1./255,\n",
    "    rotation_range = 40,\n",
    "    width_shift_range = 0.2,\n",
    "    height_shift_range = 0.2,\n",
    "    shear_range = 0.2,\n",
    "    zoom_range = 0.2,\n",
    "    horizontal_flip = True,\n",
    "    fill_mode = 'nearest',\n",
    ")\n",
    "train_generator = train_datagen.flow_from_directory('./cifar-10/train',\n",
    "                                                   target_size = (height, width),\n",
    "                                                   batch_size = batch_size,\n",
    "                                                   seed = 7,\n",
    "                                                   shuffle = True,\n",
    "                                                   class_mode = \"sparse\")\n",
    "valid_datagen = keras.preprocessing.image.ImageDataGenerator(rescale = 1./255)\n",
    "valid_generator = valid_datagen.flow_from_directory(valid_dir,\n",
    "                                                    target_size = (height, width),\n",
    "                                                    batch_size = batch_size,\n",
    "                                                    seed = 7,\n",
    "                                                    shuffle = False,\n",
    "                                                    class_mode = \"sparse\")\n",
    "train_num = train_generator.samples\n",
    "valid_num = valid_generator.samples\n",
    "print(train_num, valid_num)"
   ]
  },
  {
   "cell_type": "code",
   "execution_count": 6,
   "id": "796397e6",
   "metadata": {},
   "outputs": [
    {
     "name": "stdout",
     "output_type": "stream",
     "text": [
      "(32, 32, 32, 3) (32,)\n",
      "[5. 1. 2. 4. 7. 6. 9. 7. 6. 9. 6. 2. 2. 5. 9. 0. 4. 0. 5. 1. 5. 8. 1. 4.\n",
      " 4. 7. 5. 3. 8. 5. 5. 0.]\n",
      "(32, 32, 32, 3) (32,)\n",
      "[7. 5. 0. 7. 3. 1. 4. 1. 8. 3. 8. 2. 5. 1. 2. 8. 1. 6. 3. 3. 4. 8. 8. 6.\n",
      " 6. 5. 7. 3. 8. 3. 6. 5.]\n"
     ]
    }
   ],
   "source": [
    "for i in range(2):\n",
    "    x, y = train_generator.next()\n",
    "    print(x.shape, y.shape)\n",
    "    print(y)"
   ]
  },
  {
   "cell_type": "code",
   "execution_count": 7,
   "id": "2fc3a3a7",
   "metadata": {},
   "outputs": [
    {
     "name": "stdout",
     "output_type": "stream",
     "text": [
      "Model: \"sequential\"\n",
      "_________________________________________________________________\n",
      "Layer (type)                 Output Shape              Param #   \n",
      "=================================================================\n",
      "conv2d (Conv2D)              (None, 32, 32, 128)       3584      \n",
      "_________________________________________________________________\n",
      "batch_normalization (BatchNo (None, 32, 32, 128)       512       \n",
      "_________________________________________________________________\n",
      "conv2d_1 (Conv2D)            (None, 32, 32, 128)       147584    \n",
      "_________________________________________________________________\n",
      "batch_normalization_1 (Batch (None, 32, 32, 128)       512       \n",
      "_________________________________________________________________\n",
      "max_pooling2d (MaxPooling2D) (None, 16, 16, 128)       0         \n",
      "_________________________________________________________________\n",
      "conv2d_2 (Conv2D)            (None, 16, 16, 256)       295168    \n",
      "_________________________________________________________________\n",
      "batch_normalization_2 (Batch (None, 16, 16, 256)       1024      \n",
      "_________________________________________________________________\n",
      "conv2d_3 (Conv2D)            (None, 16, 16, 256)       590080    \n",
      "_________________________________________________________________\n",
      "batch_normalization_3 (Batch (None, 16, 16, 256)       1024      \n",
      "_________________________________________________________________\n",
      "max_pooling2d_1 (MaxPooling2 (None, 8, 8, 256)         0         \n",
      "_________________________________________________________________\n",
      "conv2d_4 (Conv2D)            (None, 8, 8, 512)         1180160   \n",
      "_________________________________________________________________\n",
      "batch_normalization_4 (Batch (None, 8, 8, 512)         2048      \n",
      "_________________________________________________________________\n",
      "conv2d_5 (Conv2D)            (None, 8, 8, 512)         2359808   \n",
      "_________________________________________________________________\n",
      "batch_normalization_5 (Batch (None, 8, 8, 512)         2048      \n",
      "_________________________________________________________________\n",
      "max_pooling2d_2 (MaxPooling2 (None, 4, 4, 512)         0         \n",
      "_________________________________________________________________\n",
      "flatten (Flatten)            (None, 8192)              0         \n",
      "_________________________________________________________________\n",
      "dense (Dense)                (None, 512)               4194816   \n",
      "_________________________________________________________________\n",
      "dense_1 (Dense)              (None, 10)                5130      \n",
      "=================================================================\n",
      "Total params: 8,783,498\n",
      "Trainable params: 8,779,914\n",
      "Non-trainable params: 3,584\n",
      "_________________________________________________________________\n"
     ]
    }
   ],
   "source": [
    "model = keras.models.Sequential([\n",
    "    keras.layers.Conv2D(filters=128, kernel_size=3, padding='same',\n",
    "                        activation='relu', \n",
    "                        input_shape=[width, height, channels]),\n",
    "    keras.layers.BatchNormalization(),\n",
    "    keras.layers.Conv2D(filters=128, kernel_size=3, padding='same',\n",
    "                        activation='relu'),\n",
    "    keras.layers.BatchNormalization(),\n",
    "    keras.layers.MaxPool2D(pool_size=2),\n",
    "    \n",
    "    keras.layers.Conv2D(filters=256, kernel_size=3, padding='same',\n",
    "                        activation='relu'),\n",
    "    keras.layers.BatchNormalization(),\n",
    "    keras.layers.Conv2D(filters=256, kernel_size=3, padding='same',\n",
    "                        activation='relu'),\n",
    "    keras.layers.BatchNormalization(),\n",
    "    keras.layers.MaxPool2D(pool_size=2),\n",
    "    keras.layers.Conv2D(filters=512, kernel_size=3, padding='same',\n",
    "                        activation='relu'),\n",
    "    keras.layers.BatchNormalization(),\n",
    "    keras.layers.Conv2D(filters=512, kernel_size=3, padding='same',\n",
    "                        activation='relu'),\n",
    "    keras.layers.BatchNormalization(),\n",
    "    keras.layers.MaxPool2D(pool_size=2),\n",
    "    keras.layers.Flatten(),\n",
    "    keras.layers.Dense(512, activation='relu'),\n",
    "    keras.layers.Dense(num_classes, activation='softmax'),\n",
    "])\n",
    "\n",
    "model.compile(loss=\"sparse_categorical_crossentropy\",\n",
    "              optimizer=\"adam\", metrics=['accuracy'])\n",
    "model.summary()"
   ]
  },
  {
   "cell_type": "code",
   "execution_count": 8,
   "id": "cfbcd387",
   "metadata": {},
   "outputs": [
    {
     "name": "stderr",
     "output_type": "stream",
     "text": [
      "c:\\users\\lizhi\\appdata\\local\\programs\\python\\python37\\lib\\site-packages\\keras\\engine\\training.py:1972: UserWarning: `Model.fit_generator` is deprecated and will be removed in a future version. Please use `Model.fit`, which supports generators.\n",
      "  warnings.warn('`Model.fit_generator` is deprecated and '\n"
     ]
    },
    {
     "name": "stdout",
     "output_type": "stream",
     "text": [
      "Epoch 1/20\n",
      "1406/1406 [==============================] - 821s 584ms/step - loss: 1.9760 - accuracy: 0.3543 - val_loss: 1.8646 - val_accuracy: 0.3850\n",
      "Epoch 2/20\n",
      "1406/1406 [==============================] - 842s 599ms/step - loss: 1.4186 - accuracy: 0.4890 - val_loss: 1.4173 - val_accuracy: 0.5367\n",
      "Epoch 3/20\n",
      "1406/1406 [==============================] - 843s 600ms/step - loss: 1.2169 - accuracy: 0.5705 - val_loss: 1.1733 - val_accuracy: 0.6202\n",
      "Epoch 4/20\n",
      "1406/1406 [==============================] - 842s 599ms/step - loss: 1.0594 - accuracy: 0.6319 - val_loss: 0.9852 - val_accuracy: 0.6789\n",
      "Epoch 5/20\n",
      "1406/1406 [==============================] - 856s 609ms/step - loss: 0.9337 - accuracy: 0.6766 - val_loss: 0.9596 - val_accuracy: 0.7025\n",
      "Epoch 6/20\n",
      "1406/1406 [==============================] - 869s 618ms/step - loss: 0.8505 - accuracy: 0.7087 - val_loss: 0.8648 - val_accuracy: 0.7171\n",
      "Epoch 7/20\n",
      "1406/1406 [==============================] - 898s 639ms/step - loss: 0.7734 - accuracy: 0.7368 - val_loss: 0.8638 - val_accuracy: 0.7472\n",
      "Epoch 8/20\n",
      "1406/1406 [==============================] - 893s 635ms/step - loss: 0.7114 - accuracy: 0.7567 - val_loss: 0.7140 - val_accuracy: 0.7827\n",
      "Epoch 9/20\n",
      "1406/1406 [==============================] - 836s 595ms/step - loss: 0.6697 - accuracy: 0.7721 - val_loss: 0.6537 - val_accuracy: 0.8003\n",
      "Epoch 10/20\n",
      "1406/1406 [==============================] - 768s 547ms/step - loss: 0.6335 - accuracy: 0.7844 - val_loss: 0.6116 - val_accuracy: 0.8121\n",
      "Epoch 11/20\n",
      "1406/1406 [==============================] - 885s 630ms/step - loss: 0.6134 - accuracy: 0.7938 - val_loss: 0.6006 - val_accuracy: 0.8041\n",
      "Epoch 12/20\n",
      "1406/1406 [==============================] - 904s 643ms/step - loss: 0.5793 - accuracy: 0.8048 - val_loss: 0.5633 - val_accuracy: 0.8281\n",
      "Epoch 13/20\n",
      "1406/1406 [==============================] - 881s 627ms/step - loss: 0.5554 - accuracy: 0.8124 - val_loss: 0.5793 - val_accuracy: 0.8209\n",
      "Epoch 14/20\n",
      "1406/1406 [==============================] - 874s 622ms/step - loss: 0.5296 - accuracy: 0.8201 - val_loss: 0.5969 - val_accuracy: 0.8241\n",
      "Epoch 15/20\n",
      "1406/1406 [==============================] - 794s 565ms/step - loss: 0.5171 - accuracy: 0.8255 - val_loss: 0.4831 - val_accuracy: 0.8431\n",
      "Epoch 16/20\n",
      "1406/1406 [==============================] - 813s 578ms/step - loss: 0.4877 - accuracy: 0.8339 - val_loss: 0.5607 - val_accuracy: 0.8287\n",
      "Epoch 17/20\n",
      "1406/1406 [==============================] - 848s 603ms/step - loss: 0.4746 - accuracy: 0.8409 - val_loss: 0.4644 - val_accuracy: 0.8532\n",
      "Epoch 18/20\n",
      "1406/1406 [==============================] - 833s 592ms/step - loss: 0.4671 - accuracy: 0.8411 - val_loss: 0.7067 - val_accuracy: 0.8017\n",
      "Epoch 19/20\n",
      "1406/1406 [==============================] - 828s 589ms/step - loss: 0.4498 - accuracy: 0.8480 - val_loss: 0.4360 - val_accuracy: 0.8714\n",
      "Epoch 20/20\n",
      "1406/1406 [==============================] - 839s 597ms/step - loss: 0.4372 - accuracy: 0.8514 - val_loss: 0.4845 - val_accuracy: 0.8538\n"
     ]
    }
   ],
   "source": [
    "epochs = 20\n",
    "history = model.fit_generator(train_generator,\n",
    "                              steps_per_epoch = train_num // batch_size,\n",
    "                              epochs = epochs,\n",
    "                              validation_data = valid_generator,\n",
    "                              validation_steps = valid_num // batch_size)"
   ]
  },
  {
   "cell_type": "code",
   "execution_count": 9,
   "id": "5aec949d",
   "metadata": {},
   "outputs": [
    {
     "name": "stdout",
     "output_type": "stream",
     "text": [
      "INFO:tensorflow:Assets written to: saved_model/my_model\\assets\n"
     ]
    }
   ],
   "source": [
    "model.save('saved_model/my_model')"
   ]
  },
  {
   "cell_type": "code",
   "execution_count": 11,
   "id": "4ea068f2",
   "metadata": {},
   "outputs": [
    {
     "name": "stdout",
     "output_type": "stream",
     "text": [
      "Found 10000 images belonging to 10 classes.\n",
      "10000\n"
     ]
    }
   ],
   "source": [
    "test_datagen = keras.preprocessing.image.ImageDataGenerator(\n",
    "    rescale = 1./255)\n",
    "test_generator = test_datagen.flow_from_directory(\n",
    "    test_dir,\n",
    "    target_size = (height, width),\n",
    "    batch_size = batch_size,\n",
    "    seed = 7,\n",
    "    shuffle = False,\n",
    "    class_mode = \"sparse\")\n",
    "test_num = test_generator.samples\n",
    "print(test_num)"
   ]
  },
  {
   "cell_type": "code",
   "execution_count": null,
   "id": "ce2001e6",
   "metadata": {},
   "outputs": [],
   "source": [
    "# print(history.history)\n",
    "def plot_learning_curves(history, label, epcohs, min_value, max_value):\n",
    "    data = {}\n",
    "    data[label] = history.history[label]\n",
    "    data['val_'+label] = history.history['val_'+label]\n",
    "    pd.DataFrame(data).plot(figsize=(8, 5))\n",
    "    plt.grid(True)\n",
    "    plt.axis([0, epochs, min_value, max_value])\n",
    "    plt.show()\n",
    "    \n",
    "plot_learning_curves(history, 'accuracy', epochs, 0, 1)\n",
    "plot_learning_curves(history, 'loss', epochs, 0, 2)"
   ]
  }
 ],
 "metadata": {
  "kernelspec": {
   "display_name": "Python 3",
   "language": "python",
   "name": "python3"
  },
  "language_info": {
   "codemirror_mode": {
    "name": "ipython",
    "version": 3
   },
   "file_extension": ".py",
   "mimetype": "text/x-python",
   "name": "python",
   "nbconvert_exporter": "python",
   "pygments_lexer": "ipython3",
   "version": "3.7.9"
  }
 },
 "nbformat": 4,
 "nbformat_minor": 5
}
